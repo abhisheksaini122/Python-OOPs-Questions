{
  "nbformat": 4,
  "nbformat_minor": 0,
  "metadata": {
    "colab": {
      "provenance": []
    },
    "kernelspec": {
      "name": "python3",
      "display_name": "Python 3"
    },
    "language_info": {
      "name": "python"
    }
  },
  "cells": [
    {
      "cell_type": "code",
      "execution_count": null,
      "metadata": {
        "id": "8f12bXe_k-Mx"
      },
      "outputs": [],
      "source": []
    },
    {
      "cell_type": "markdown",
      "source": [
        "1.<< What is Object-Oriented Programming (OOP)?\n",
        "Ans.<<  Object-Oriented Programming (OOP)\n",
        "Object-Oriented Programming (OOP) is a programming paradigm that organizes code around objects and classes. It simulates real-world objects and systems, promoting modularity, reusability, and maintainability. Key principles include:\n",
        "\n",
        "- Encapsulation: Bundling data and methods\n",
        "- Abstraction: Hiding implementation details\n",
        "- Inheritance: Creating new classes based on existing ones\n",
        "- Polymorphism: Objects taking on multiple forms\n",
        "\n",
        "OOP benefits include easier debugging, improved readability, and reduced code duplication. Common concepts include classes, objects, methods, and attributes. By applying OOP principles, developers create robust and scalable software systems."
      ],
      "metadata": {
        "id": "25qKFlBjppXI"
      }
    },
    {
      "cell_type": "markdown",
      "source": [
        "2.<< What is a class in OOP?\n",
        "Ans.<<  Class in OOP\n",
        "In Object-Oriented Programming (OOP), a class is a blueprint or template that defines the properties and behavior of an object. It's a abstract representation of a real-world entity or concept.\n",
        "\n",
        "A class typically includes:\n",
        "\n",
        "1. Attributes (data members): Define the characteristics of the object.\n",
        "2. Methods (functions): Define the actions that can be performed on the object.\n",
        "\n",
        "A class serves as a template for creating objects, which are instances of the class. Each object has its own set of attributes and can be manipulated using the methods defined in the class.\n",
        "\n",
        "Think of a class as a design pattern or a template, and an object as an instance of that template with its own specific characteristics."
      ],
      "metadata": {
        "id": "ze-G5oRYqDa1"
      }
    },
    {
      "cell_type": "markdown",
      "source": [
        "3.<< What is an object in OOP+?\n",
        "Ans.<< Object in OOP\n",
        "In Object-Oriented Programming (OOP), an object is an instance of a class. It represents a real-world entity or concept and has its own set of:\n",
        "\n",
        "1. Attributes (data): Specific characteristics or properties.\n",
        "2. Methods (functions): Actions that can be performed on the object.\n",
        "\n",
        "An object has its own state (defined by its attributes) and behavior (defined by its methods). Objects can interact with each other and respond to events or changes in their environment.\n",
        "\n",
        "Think of an object as a tangible entity with its own properties and behaviors, such as a car, a user, or a product. Each object is unique and can be manipulated independently."
      ],
      "metadata": {
        "id": "jeAQtnkaqdTw"
      }
    },
    {
      "cell_type": "markdown",
      "source": [
        "4.<<  What is the difference between abstraction and encapsulation?\n",
        "Ans.<< Abstraction vs Encapsulation\n",
        "Abstraction and encapsulation are two fundamental concepts in Object-Oriented Programming (OOP). While they're related, they serve distinct purposes:\n",
        "\n",
        "Abstraction:\n",
        "- Focuses on hiding implementation details and showing only essential features.\n",
        "- Helps to reduce complexity by exposing only necessary information.\n",
        "- Enables developers to work with high-level concepts without worrying about low-level details.\n",
        "\n",
        "Encapsulation:\n",
        "- Focuses on bundling data and its associated methods that operate on that data within a single unit.\n",
        "- Helps to protect data from external interference and misuse.\n",
        "- Promotes data hiding and improves code organization.\n",
        "\n",
        "In summary:\n",
        "\n",
        "- Abstraction is about hiding complexity and showing only essential features.\n",
        "- Encapsulation is about bundling data and methods, protecting data, and promoting code organization.\n",
        "\n",
        "To illustrate the difference:\n",
        "\n",
        "- A car's gear system is an abstraction, as you don't need to know the intricacies of the gears to drive the car.\n",
        "- A car's engine, on the other hand, is encapsulated, as it's a self-contained unit with its own mechanisms and protections.\n",
        "\n",
        "Both abstraction and encapsulation help to improve code maintainability, reusability, and scalability."
      ],
      "metadata": {
        "id": "bsS1jlh0qzWd"
      }
    },
    {
      "cell_type": "markdown",
      "source": [
        "5.<< What are dunder methods in Python?\n",
        "Ans.<< Dunder Methods in Python\n",
        "In Python, \"dunder\" is a colloquialism for \"double underscore.\" Dunder methods, also known as magic methods or special methods, are a set of methods in Python classes that are surrounded by double underscores (__) on either side of the method name.\n",
        "\n",
        "These methods are used to emulate the behavior of built-in types, such as integers, strings, or lists, and to provide a way to customize the behavior of objects.\n",
        "\n",
        "Some common examples of dunder methods include:\n",
        "\n",
        "- __init__: Initializes an object when it's created.\n",
        "- __str__ and __repr__: Return a string representation of an object.\n",
        "- __add__, __sub__, __mul__, etc.: Define the behavior of arithmetic operations.\n",
        "- __len__: Returns the length of an object.\n",
        "- __getitem__ and __setitem__: Define the behavior of indexing and slicing.\n",
        "- __call__: Makes an object callable.\n",
        "\n",
        "By implementing dunder methods, you can create objects that behave like built-in types and provide a more intuitive and Pythonic API.\n",
        "\n"
      ],
      "metadata": {
        "id": "6VIm1vegq9BM"
      }
    },
    {
      "cell_type": "markdown",
      "source": [
        "6.<< Explain the concept of inheritance in OOPH?\n",
        "Ans.<< Inheritance in OOP\n",
        "Inheritance is a concept in Object-Oriented Programming (OOP) where a class (subclass) inherits properties and behavior from another class (superclass). The subclass inherits all attributes and methods of the superclass and can also add new attributes and methods or override the ones inherited. This promotes code reusability, facilitates hierarchical relationships, and makes it easier to modify or extend the behavior of a class. Inheritance allows for a more organized and structured approach to programming, enabling developers to create specialized classes that build upon existing ones. It supports modularity and reduces code duplication."
      ],
      "metadata": {
        "id": "uPXVVLixuVrc"
      }
    },
    {
      "cell_type": "markdown",
      "source": [
        "7.<< What is polymorphism in OOP+?\n",
        "Ans.<< Polymorphism in OOP\n",
        "Polymorphism is the ability of an object to take on multiple forms, depending on the context in which it's used. In Object-Oriented Programming (OOP), polymorphism allows objects of different classes to be treated as objects of a common superclass.\n",
        "\n",
        "This enables:\n",
        "\n",
        "1. Method overriding: Different classes can provide their own implementation of a method.\n",
        "2. Method overloading: Multiple methods with the same name can be defined with different parameters.\n",
        "3. Operator overloading: Operators can be redefined for custom classes.\n",
        "\n",
        "Polymorphism promotes flexibility, code reusability, and easier maintenance, making it a fundamental concept in OOP."
      ],
      "metadata": {
        "id": "lBvkk8YLvDUh"
      }
    },
    {
      "cell_type": "markdown",
      "source": [
        "8.<< How is encapsulation achieved in Python?\n",
        "Ans.<< Encapsulation in Python\n",
        "Encapsulation in Python is achieved through the use of classes and objects. Here's how:\n",
        "\n",
        "1. Classes: Define a class to encapsulate data and methods that operate on that data.\n",
        "2. Attributes: Use attributes (data members) to store data within the class.\n",
        "3. Methods: Use methods (functions) to manipulate and access the data.\n",
        "\n",
        "Python doesn't have strict access modifiers like public, private, or protected. However, you can achieve encapsulation by using:\n",
        "\n",
        "1. Single underscore prefix (e.g., _variable): Indicates that the attribute or method is intended to be private.\n",
        "2. Double underscore prefix (e.g., __variable): Invokes name mangling, making it harder to access the attribute or method directly.\n",
        "\n"
      ],
      "metadata": {
        "id": "8ZbtfC2GvSgm"
      }
    },
    {
      "cell_type": "markdown",
      "source": [
        "9.<< What is a constructor in Python+?\n",
        "Ans.<< Constructor in Python\n",
        "In Python, a constructor is a special method __init__ that is automatically called when an object of a class is created. It initializes the object's attributes and sets up its internal state. The constructor is used to initialize instance variables, set default values, and perform any necessary setup or validation, allowing for proper object initialization and setup. It's a crucial part of class definition in Python."
      ],
      "metadata": {
        "id": "cJvTeC-lvhLM"
      }
    },
    {
      "cell_type": "markdown",
      "source": [
        "10.<< What are class and static methods in Python?\n",
        "Ans.<< Class and Static Methods in Python\n",
        "In Python, you can define two types of methods within a class:\n",
        "\n",
        "Class Methods\n",
        "- Defined using the @classmethod decorator\n",
        "- Take the class itself as the first argument (usually referred to as cls)\n",
        "- Can access or modify class state\n",
        "- Are used when you want to define a method that belongs to the class rather than an instance\n",
        "\n",
        "Static Methods\n",
        "- Defined using the @staticmethod decorator\n",
        "- Do not take any implicit arguments (neither self nor cls)\n",
        "- Are used when you want to group related functionality within a class without accessing the class or instance state\n",
        "\n",
        "Both class and static methods are useful for organizing code and providing utility functions that belong to a class, but they serve different purposes and have different use cases."
      ],
      "metadata": {
        "id": "flFTUOELvyT0"
      }
    },
    {
      "cell_type": "markdown",
      "source": [
        "11.<< What is method overloading in Python?\n",
        "Ans.<< Method Overloading in Python\n",
        "Method overloading is a feature in some programming languages that allows multiple methods with the same name to be defined, but with different parameter lists. However, Python does not support method overloading in the classical sense.\n",
        "\n",
        "Instead, Python uses:\n",
        "\n",
        "1. Default argument values: You can define a method with default values for some parameters, allowing it to be called with varying numbers of arguments.\n",
        "2. Variable argument lists: You can use *args and **kwargs to define methods that can take a variable number of arguments.\n",
        "\n",
        "This allows for flexible method definitions, but it's not traditional method overloading.\n"
      ],
      "metadata": {
        "id": "tQFONBhHv9IB"
      }
    },
    {
      "cell_type": "markdown",
      "source": [
        "12.<< What is method overriding in OOP\n",
        "Ans.<< Method Overriding in OOP\n",
        "Method overriding is a feature in Object-Oriented Programming (OOP) where a subclass provides a specific implementation of a method that is already defined in its superclass. The subclass method has the same name, return type, and parameter list as the superclass method, but it can have a different implementation.\n",
        "\n",
        "Method overriding allows a subclass to:\n",
        "\n",
        "1. Provide a specific implementation: Tailor the behavior of a method to its specific needs.\n",
        "2. Extend or modify behavior: Build upon or modify the behavior of the superclass method.\n",
        "\n",
        "This promotes polymorphism and flexibility in programming, enabling more precise control over object behavior."
      ],
      "metadata": {
        "id": "CRz3SrnXwH4J"
      }
    },
    {
      "cell_type": "markdown",
      "source": [
        "13.<< What is a property decorator in Python?\n",
        "Ans,<< Property Decorator in Python\n",
        "The @property decorator in Python allows you to define getter, setter, and deleter methods for an attribute. This enables you to:\n",
        "\n",
        "1. Control access: Implement validation, calculation, or other logic when getting or setting an attribute.\n",
        "2. Encapsulate data: Hide internal implementation details and provide a controlled interface.\n",
        "3. Improve code readability: Use attribute access syntax (e.g., obj.attr) instead of method calls.\n",
        "\n"
      ],
      "metadata": {
        "id": "V3Rn-LNBwmWm"
      }
    },
    {
      "cell_type": "markdown",
      "source": [
        "14.<<  Why is polymorphism important in OOP?\n",
        "Ans.<< Polymorphism in OOP\n",
        "Polymorphism is important in OOP because it allows for:\n",
        "\n",
        "1. Increased flexibility: Write code that can work with objects of different classes.\n",
        "2. Improved code reusability: Use the same code with different objects, reducing duplication.\n",
        "3. Easier maintenance: Modify or extend code without affecting other parts of the program.\n",
        "4. More generic code: Write code that can handle a wide range of objects and scenarios.\n",
        "\n",
        "Polymorphism enables you to write more abstract and general code, making it easier to adapt to changing requirements and improving overall code quality."
      ],
      "metadata": {
        "id": "RAWEu-8Yw1qt"
      }
    },
    {
      "cell_type": "markdown",
      "source": [
        "15.<< What is an abstract class in Python?\n",
        "Ans.<< Abstract Class in Python\n",
        "An abstract class in Python is a class that cannot be instantiated on its own and is designed to be inherited by other classes. It typically defines a blueprint for other classes to follow and can include:\n",
        "\n",
        "1. Abstract methods: Methods declared but not implemented, which must be implemented by subclasses.\n",
        "2. Concrete methods: Methods with implementation that can be shared by subclasses.\n",
        "\n",
        "Abstract classes are useful for:\n",
        "\n",
        "1. Defining interfaces: Specifying a common set of methods that subclasses must implement.\n",
        "2. Providing shared implementation: Offering a basic implementation that subclasses can build upon.\n",
        "\n",
        "In Python, abstract classes are created using the abc (Abstract Base Classes) module."
      ],
      "metadata": {
        "id": "DhzUgeRqxJh9"
      }
    },
    {
      "cell_type": "markdown",
      "source": [
        "16.<< What are the advantages of OOP?\n",
        "Ans.<< Advantages of OOP\n",
        "Object-Oriented Programming (OOP) offers several advantages, including:\n",
        "\n",
        "1. Modularity: Breaks down complex systems into smaller, manageable modules.\n",
        "2. Reusability: Enables code reuse through classes and objects.\n",
        "3. Easier maintenance: Allows for modifications and updates without affecting other parts of the program.\n",
        "4. Improved readability: Organizes code in a logical and structured way.\n",
        "5. Flexibility: Supports complex data structures and relationships.\n",
        "6. Abstraction: Hides implementation details, focusing on essential features.\n",
        "7. Encapsulation: Protects data from external interference.\n",
        "\n",
        "These advantages make OOP a popular and effective programming paradigm for developing complex software systems."
      ],
      "metadata": {
        "id": "fJErCdzWxbPJ"
      }
    },
    {
      "cell_type": "markdown",
      "source": [
        "17.<< What is the difference between a class variable and an instance variable?\n",
        "Ans.<< Class Variable vs Instance Variable\n",
        "The main difference between a class variable and an instance variable is:\n",
        "\n",
        "Class Variable\n",
        "- Shared by all instances of the class\n",
        "- Defined at the class level\n",
        "- Changes affect all instances\n",
        "\n",
        "Instance Variable\n",
        "- Unique to each instance of the class\n",
        "- Defined at the instance level\n",
        "- Changes affect only the specific instance\n",
        "\n",
        "In other words, class variables are like global variables for the class, while instance variables are specific to each object created from the class."
      ],
      "metadata": {
        "id": "qOQhQ3H5x3LP"
      }
    },
    {
      "cell_type": "markdown",
      "source": [
        "18.<< What is multiple inheritance in Python+\n",
        "Ans.<< Multiple Inheritance in Python\n",
        "Multiple inheritance in Python is a feature that allows a class to inherit properties and behavior from more than one parent class. This enables a class to combine the attributes and methods of multiple classes.\n",
        "\n"
      ],
      "metadata": {
        "id": "z97aBAunyDfV"
      }
    },
    {
      "cell_type": "markdown",
      "source": [
        "19.<< Explain the purpose of ‘’__str__’ and ‘__repr__’ ‘ methods in Python?\n",
        "AnS.<< *__str__ and __repr__ Methods in Python*\n",
        "The __str__ and __repr__ methods in Python are used to provide string representations of objects.\n",
        "\n",
        "*__str__*\n",
        "- Returns a human-readable string representation of the object.\n",
        "- Used for display purposes, such as printing the object.\n",
        "- Should return a string that is easy to understand.\n",
        "\n",
        "*__repr__*\n",
        "- Returns a string representation of the object that is useful for debugging.\n",
        "- Ideally, the string should be a valid Python expression that can recreate the object.\n",
        "- Used for logging, debugging, and representation in interactive shells.\n",
        "\n",
        "Example:\n",
        "\n",
        "class Person:\n",
        "    def __init__(self, name, age):\n",
        "        self.name = name\n",
        "        self.age = age\n",
        "\n",
        "    def __str__(self):\n",
        "        return f\"{self.name}, {self.age} years old\"\n",
        "\n",
        "    def __repr__(self):\n",
        "        return f\"Person(name='{self.name}', age={self.age})\"\n",
        "\n",
        "person = Person(\"John\", 30)\n",
        "print(person)  # Output: John, 30 years old\n",
        "print(repr(person))  # Output: Person(name='John', age=30)\n"
      ],
      "metadata": {
        "id": "1yMPfo5KyQZy"
      }
    },
    {
      "cell_type": "markdown",
      "source": [
        "20.<< What is the significance of the ‘super()’ function in Python?\n",
        "Ans.<< *super() Function in Python*\n",
        "The super() function in Python is used to:\n",
        "\n",
        "1. Access parent class methods: Call methods from a parent class (superclass) in a child class (subclass).\n",
        "2. Override methods: Provide a way to override methods in a subclass while still calling the parent class method.\n",
        "\n",
        "super() is useful for:\n",
        "\n",
        "1. Method overriding: Allowing a subclass to build upon or modify the behavior of a parent class method.\n",
        "2. Code reuse: Enabling a subclass to reuse code from a parent class.\n",
        "\n",
        "Example:\n",
        "\n",
        "class Animal:\n",
        "    def sound(self):\n",
        "        print(\"Animal makes a sound\")\n",
        "\n",
        "class Dog(Animal):\n",
        "    def sound(self):\n",
        "        super().sound()\n",
        "        print(\"Dog barks\")\n",
        "\n",
        "my_dog = Dog()\n",
        "my_dog.sound()\n",
        "# Output:\n",
        "# Animal makes a sound\n",
        "# Dog barks\n"
      ],
      "metadata": {
        "id": "BcC3mo3QyePr"
      }
    },
    {
      "cell_type": "markdown",
      "source": [
        "21.<< What is the significance of the __del__ method in Python?\n",
        "Ans.<< *__del__ Method in Python*\n",
        "The __del__ method in Python is a special method that is called when an object is about to be destroyed (garbage collected). It's also known as a finalizer.\n",
        "\n",
        "The significance of __del__ is to:\n",
        "\n",
        "1. Release resources: Close files, network connections, or other system resources that the object has acquired.\n",
        "2. Clean up: Perform any necessary cleanup actions before the object is destroyed.\n",
        "\n",
        "However, it's worth noting that:\n",
        "\n",
        "1. Unpredictable timing: The __del__ method is called at an unpredictable time, which can make it difficult to rely on.\n",
        "2. Not guaranteed to run: In some cases, the __del__ method might not be called at all (e.g., if the program crashes).\n",
        "\n",
        "Due to these limitations, it's often recommended to use context managers or explicit close methods instead of relying solely on __del__ for resource management."
      ],
      "metadata": {
        "id": "oK71XTQtyuOH"
      }
    },
    {
      "cell_type": "markdown",
      "source": [
        "22.<<  What is the difference between @staticmethod and @classmethod in Python?\n",
        "Ans.<< *@staticmethod vs @classmethod in Python*\n",
        "The main difference between @staticmethod and @classmethod is:\n",
        "\n",
        "*@staticmethod*\n",
        "- Belongs to the class, not the instance.\n",
        "- Doesn't take any implicit arguments (neither self nor cls).\n",
        "- Used for utility methods that don't depend on the class or instance state.\n",
        "\n",
        "*@classmethod*\n",
        "- Belongs to the class, not the instance.\n",
        "- Takes the class itself as the first argument (cls).\n",
        "- Used for methods that need to access or modify class state.\n",
        "\n",
        "In summary:\n",
        "\n",
        "- @staticmethod is used for utility methods that are independent of the class state.\n",
        "- @classmethod is used for methods that need to interact with the class itself.\n",
        "\n",
        "Example:\n",
        "\n",
        "class MyClass:\n",
        "    count = 0\n",
        "\n",
        "    def __init__(self):\n",
        "        MyClass.count += 1\n",
        "\n",
        "    @staticmethod\n",
        "    def utility_method():\n",
        "        return \"Utility method\"\n",
        "\n",
        "    @classmethod\n",
        "    def get_count(cls):\n",
        "        return cls.count\n",
        "\n",
        "print(MyClass.utility_method())  # Output: Utility method\n",
        "print(MyClass.get_count())  # Output: 0\n",
        "obj = MyClass()\n",
        "print(MyClass.get_count())  # Output: 1\n"
      ],
      "metadata": {
        "id": "JA1lXCImy8mN"
      }
    },
    {
      "cell_type": "markdown",
      "source": [
        "23.<< How does polymorphism work in Python with inheritance?\n",
        "Ans.<< Polymorphism with Inheritance in Python\n",
        "Polymorphism in Python with inheritance allows objects of different classes to be treated as objects of a common superclass. This is achieved through:\n",
        "\n",
        "1. Method overriding: A subclass provides a specific implementation of a method that is already defined in its superclass.\n",
        "2. Method inheritance: A subclass inherits methods from its superclass and can use them as is or override them.\n",
        "\n",
        "When a subclass object is treated as a superclass object, Python resolves method calls based on the actual object type at runtime. This is known as dynamic method resolution.\n",
        "\n",
        "Example:\n",
        "\n",
        "class Shape:\n",
        "    def area(self):\n",
        "        pass\n",
        "\n",
        "class Circle(Shape):\n",
        "    def __init__(self, radius):\n",
        "        self.radius = radius\n",
        "\n",
        "    def area(self):\n",
        "        return 3.14 * self.radius ** 2\n",
        "\n",
        "class Rectangle(Shape):\n",
        "    def __init__(self, width, height):\n",
        "        self.width = width\n",
        "        self.height = height\n",
        "\n",
        "    def area(self):\n",
        "        return self.width * self.height\n",
        "\n",
        "shapes = [Circle(5), Rectangle(4, 5)]\n",
        "for shape in shapes:\n",
        "    print(shape.area())\n",
        "\n"
      ],
      "metadata": {
        "id": "oUxugM-HzGku"
      }
    },
    {
      "cell_type": "markdown",
      "source": [
        "24.<< What is method chaining in Python OOP?\n",
        "ans.<,Method Chaining in Python OOP\n",
        "Method chaining is a technique in Python Object-Oriented Programming (OOP) where multiple methods are called on the same object in a single statement. Each method returns the object itself (self), allowing the next method to be called on the same object.\n",
        "\n",
        "This approach enables:\n",
        "\n",
        "1. Concise code: Reduces the need for temporary variables and improves readability.\n",
        "2. Fluent interface: Creates a more expressive and readable API.\n",
        "\n",
        "Method chaining is commonly used in builder patterns, data processing pipelines, and other scenarios where a sequence of operations needs to be performed on an object."
      ],
      "metadata": {
        "id": "HZTUnzt6zQ6Z"
      }
    },
    {
      "cell_type": "markdown",
      "source": [
        "25.<< What is the purpose of the __call__ method in Python?\n",
        "Ans.<< *__call__ Method in Python*\n",
        "The __call__ method in Python is a special method that allows an instance of a class to be called as a function. This enables instances to behave like functions.\n",
        "\n",
        "The purpose of __call__ is to:\n",
        "\n",
        "1. Make instances callable: Allow instances to be invoked like functions.\n",
        "2. Implement function-like behavior: Enable instances to perform actions similar to functions.\n",
        "\n",
        "By defining __call__, you can create classes that have a functional interface, making them more flexible and reusable."
      ],
      "metadata": {
        "id": "6fhY75QhzpG3"
      }
    },
    {
      "cell_type": "markdown",
      "source": [
        "**Practical** **Questions**"
      ],
      "metadata": {
        "id": "cRAudQ0Uz2Xm"
      }
    },
    {
      "cell_type": "markdown",
      "source": [
        "1.<< Create a parent class Animal with a method speak() that prints a generic message. Create a child class Dog\n",
        "that overrides the speak() method to print \"Bark!\"."
      ],
      "metadata": {
        "id": "FMqvy6Blz8SN"
      }
    },
    {
      "cell_type": "code",
      "source": [
        "# Parent class\n",
        "class Animal:\n",
        "    def speak(self):\n",
        "        print(\"The animal makes a sound.\")\n",
        "\n",
        "# Child class\n",
        "class Dog(Animal):\n",
        "    def speak(self):\n",
        "        print(\"Bark!\")\n",
        "\n",
        "# Create instances\n",
        "animal = Animal()\n",
        "dog = Dog()\n",
        "\n",
        "# Call speak() method\n",
        "animal.speak()  # Output: The animal makes a sound.\n",
        "dog.speak()     # Output: Bark!\n",
        "\n"
      ],
      "metadata": {
        "colab": {
          "base_uri": "https://localhost:8080/"
        },
        "id": "8CCg1Hvn0Ks1",
        "outputId": "ceb7bd06-6211-44d6-8683-2d68607b1645"
      },
      "execution_count": 1,
      "outputs": [
        {
          "output_type": "stream",
          "name": "stdout",
          "text": [
            "The animal makes a sound.\n",
            "Bark!\n"
          ]
        }
      ]
    },
    {
      "cell_type": "markdown",
      "source": [
        "2.<< Write a program to create an abstract class Shape with a method area(). Derive classes Circle and Rectangle\n",
        "from it and implement the area() method in both."
      ],
      "metadata": {
        "id": "xP9Q4dd90RJg"
      }
    },
    {
      "cell_type": "code",
      "source": [
        "from abc import ABC, abstractmethod\n",
        "import math\n",
        "\n",
        "# Abstract class\n",
        "class Shape(ABC):\n",
        "    @abstractmethod\n",
        "    def area(self):\n",
        "        pass\n",
        "\n",
        "# Derived class: Circle\n",
        "class Circle(Shape):\n",
        "    def __init__(self, radius):\n",
        "        self.radius = radius\n",
        "\n",
        "    def area(self):\n",
        "        return math.pi * self.radius ** 2\n",
        "\n",
        "# Derived class: Rectangle\n",
        "class Rectangle(Shape):\n",
        "    def __init__(self, width, height):\n",
        "        self.width = width\n",
        "        self.height = height\n",
        "\n",
        "    def area(self):\n",
        "        return self.width * self.height\n",
        "\n",
        "# Create instances\n",
        "circle = Circle(5)\n",
        "rectangle = Rectangle(4, 5)\n",
        "\n",
        "# Calculate and print areas\n",
        "print(f\"Circle area: {circle.area():.2f}\")\n",
        "print(f\"Rectangle area: {rectangle.area():.2f}\")\n"
      ],
      "metadata": {
        "colab": {
          "base_uri": "https://localhost:8080/"
        },
        "id": "VciCUWAh0XXh",
        "outputId": "650907c9-dbba-480e-b299-28d12fd8848c"
      },
      "execution_count": 2,
      "outputs": [
        {
          "output_type": "stream",
          "name": "stdout",
          "text": [
            "Circle area: 78.54\n",
            "Rectangle area: 20.00\n"
          ]
        }
      ]
    },
    {
      "cell_type": "markdown",
      "source": [
        "3.<<  Implement a multi-level inheritance scenario where a class Vehicle has an attribute type. Derive a class Car\n",
        "and further derive a class ElectricCar that adds a battery attribute."
      ],
      "metadata": {
        "id": "XlB29Vdt0fG4"
      }
    },
    {
      "cell_type": "code",
      "source": [
        "# Base class\n",
        "class Vehicle:\n",
        "    def __init__(self, type):\n",
        "        self.type = type\n",
        "\n",
        "    def display_type(self):\n",
        "        print(f\"Vehicle type: {self.type}\")\n",
        "\n",
        "# Derived class: Car\n",
        "class Car(Vehicle):\n",
        "    def __init__(self, type, brand, model):\n",
        "        super().__init__(type)\n",
        "        self.brand = brand\n",
        "        self.model = model\n",
        "\n",
        "    def display_details(self):\n",
        "        print(f\"Brand: {self.brand}, Model: {self.model}\")\n",
        "\n",
        "# Derived class: ElectricCar\n",
        "class ElectricCar(Car):\n",
        "    def __init__(self, type, brand, model, battery_capacity):\n",
        "        super().__init__(type, brand, model)\n",
        "        self.battery_capacity = battery_capacity\n",
        "\n",
        "    def display_battery_info(self):\n",
        "        print(f\"Battery capacity: {self.battery_capacity} kWh\")\n",
        "\n",
        "# Create an instance of ElectricCar\n",
        "my_car = ElectricCar(\"Car\", \"Tesla\", \"Model S\", 100)\n",
        "\n",
        "# Display details\n",
        "my_car.display_type()\n",
        "my_car.display_details()\n",
        "my_car.display_battery_info()\n",
        "\n",
        "\n"
      ],
      "metadata": {
        "colab": {
          "base_uri": "https://localhost:8080/"
        },
        "id": "kPCDLpvq0jsw",
        "outputId": "d1d0db80-beb0-45a0-b774-cc5132453c84"
      },
      "execution_count": 3,
      "outputs": [
        {
          "output_type": "stream",
          "name": "stdout",
          "text": [
            "Vehicle type: Car\n",
            "Brand: Tesla, Model: Model S\n",
            "Battery capacity: 100 kWh\n"
          ]
        }
      ]
    },
    {
      "cell_type": "markdown",
      "source": [
        "4.<< Demonstrate polymorphism by creating a base class Bird with a method fly(). Create two derived classes\n",
        "Sparrow and Penguin that override the fly() method.\n"
      ],
      "metadata": {
        "id": "zUFYCIFx0tOf"
      }
    },
    {
      "cell_type": "code",
      "source": [
        "# Base class\n",
        "class Bird:\n",
        "    def fly(self):\n",
        "        print(\"The bird flies.\")\n",
        "\n",
        "# Derived class: Sparrow\n",
        "class Sparrow(Bird):\n",
        "    def fly(self):\n",
        "        print(\"The sparrow flutters its wings and flies.\")\n",
        "\n",
        "# Derived class: Penguin\n",
        "class Penguin(Bird):\n",
        "    def fly(self):\n",
        "        print(\"The penguin cannot fly, but it can swim.\")\n",
        "\n",
        "# Create a list of birds\n",
        "birds = [Sparrow(), Penguin(), Sparrow()]\n",
        "\n",
        "# Demonstrate polymorphism\n",
        "for bird in birds:\n",
        "    bird.fly()\n"
      ],
      "metadata": {
        "colab": {
          "base_uri": "https://localhost:8080/"
        },
        "id": "seUYrIRG0zeK",
        "outputId": "670a8b26-8a00-406c-855e-7106a2843629"
      },
      "execution_count": 4,
      "outputs": [
        {
          "output_type": "stream",
          "name": "stdout",
          "text": [
            "The sparrow flutters its wings and flies.\n",
            "The penguin cannot fly, but it can swim.\n",
            "The sparrow flutters its wings and flies.\n"
          ]
        }
      ]
    },
    {
      "cell_type": "markdown",
      "source": [
        "5.<< Write a program to demonstrate encapsulation by creating a class BankAccount with private attributes\n",
        "balance and methods to deposit, withdraw, and check balance."
      ],
      "metadata": {
        "id": "DApffUKc08SZ"
      }
    },
    {
      "cell_type": "code",
      "source": [
        "class BankAccount:\n",
        "    def __init__(self, initial_balance=0):\n",
        "        self.__balance = initial_balance\n",
        "\n",
        "    def deposit(self, amount):\n",
        "        if amount > 0:\n",
        "            self.__balance += amount\n",
        "            print(f\"Deposited {amount}. New balance: {self.__balance}\")\n",
        "        else:\n",
        "            print(\"Invalid deposit amount.\")\n",
        "\n",
        "    def withdraw(self, amount):\n",
        "        if 0 < amount <= self.__balance:\n",
        "            self.__balance -= amount\n",
        "            print(f\"Withdrew {amount}. New balance: {self.__balance}\")\n",
        "        else:\n",
        "            print(\"Insufficient funds or invalid withdrawal amount.\")\n",
        "\n",
        "    def check_balance(self):\n",
        "        return self.__balance\n",
        "\n",
        "# Create an instance of BankAccount\n",
        "account = BankAccount(1000)\n",
        "\n",
        "# Perform operations\n",
        "account.deposit(500)\n",
        "account.withdraw(200)\n",
        "print(f\"Current balance: {account.check_balance()}\")\n",
        "\n",
        "# Attempt to access balance directly (will raise an AttributeError)\n",
        "try:\n",
        "    print(account.__balance)\n",
        "except AttributeError:\n",
        "    print(\"Error: Cannot access balance directly.\")\n",
        "\n"
      ],
      "metadata": {
        "id": "I3uzKXyY1AZY"
      },
      "execution_count": null,
      "outputs": []
    },
    {
      "cell_type": "markdown",
      "source": [
        "6.<<  Demonstrate runtime polymorphism using a method play() in a base class Instrument. Derive classes Guitar\n",
        "and Piano that implement their own version of play()."
      ],
      "metadata": {
        "id": "DKhCatLJ1KfM"
      }
    },
    {
      "cell_type": "code",
      "source": [
        "# Base class\n",
        "class Instrument:\n",
        "    def play(self):\n",
        "        print(\"The instrument is playing.\")\n",
        "\n",
        "# Derived class: Guitar\n",
        "class Guitar(Instrument):\n",
        "    def play(self):\n",
        "        print(\"The guitar is strumming.\")\n",
        "\n",
        "# Derived class: Piano\n",
        "class Piano(Instrument):\n",
        "    def play(self):\n",
        "        print(\"The piano is being played.\")\n",
        "\n",
        "# Create a list of instruments\n",
        "instruments = [Guitar(), Piano(), Guitar()]\n",
        "\n",
        "# Demonstrate runtime polymorphism\n",
        "for instrument in instruments:\n",
        "    instrument.play()\n",
        "\n"
      ],
      "metadata": {
        "colab": {
          "base_uri": "https://localhost:8080/"
        },
        "id": "E2TdOj7p1Okx",
        "outputId": "9c699fce-308b-40e0-9f25-4d05dbb79457"
      },
      "execution_count": 5,
      "outputs": [
        {
          "output_type": "stream",
          "name": "stdout",
          "text": [
            "The guitar is strumming.\n",
            "The piano is being played.\n",
            "The guitar is strumming.\n"
          ]
        }
      ]
    },
    {
      "cell_type": "markdown",
      "source": [
        "7.<< Create a class MathOperations with a class method add_numbers() to add two numbers and a static\n",
        "method subtract_numbers() to subtract two numbers."
      ],
      "metadata": {
        "id": "4vQg4AGS1pxo"
      }
    },
    {
      "cell_type": "code",
      "source": [
        "class MathOperations:\n",
        "    @classmethod\n",
        "    def add_numbers(cls, num1, num2):\n",
        "        return num1 + num2\n",
        "\n",
        "    @staticmethod\n",
        "    def subtract_numbers(num1, num2):\n",
        "        return num1 - num2\n",
        "\n",
        "# Call the class method\n",
        "result_add = MathOperations.add_numbers(10, 5)\n",
        "print(f\"Addition result: {result_add}\")\n",
        "\n",
        "# Call the static method\n",
        "result_subtract = MathOperations.subtract_numbers(10, 5)\n",
        "print(f\"Subtraction result: {result_subtract}\")\n"
      ],
      "metadata": {
        "colab": {
          "base_uri": "https://localhost:8080/"
        },
        "id": "7HJjmJT81usE",
        "outputId": "dbc7a5f5-f104-45b5-9542-26415ce5f9dd"
      },
      "execution_count": 6,
      "outputs": [
        {
          "output_type": "stream",
          "name": "stdout",
          "text": [
            "Addition result: 15\n",
            "Subtraction result: 5\n"
          ]
        }
      ]
    },
    {
      "cell_type": "markdown",
      "source": [
        "8.<<  Implement a class Person with a class method to count the total number of persons created."
      ],
      "metadata": {
        "id": "2kGM4MBq13SP"
      }
    },
    {
      "cell_type": "code",
      "source": [
        "class Person:\n",
        "    total_persons = 0\n",
        "\n",
        "    def __init__(self, name):\n",
        "        self.name = name\n",
        "        Person.total_persons += 1\n",
        "\n",
        "    @classmethod\n",
        "    def count_persons(cls):\n",
        "        return cls.total_persons\n",
        "\n",
        "# Create some Person instances\n",
        "person1 = Person(\"John\")\n",
        "person2 = Person(\"Jane\")\n",
        "person3 = Person(\"Bob\")\n",
        "\n",
        "# Get the total number of persons\n",
        "total = Person.count_persons()\n",
        "print(f\"Total persons created: {total}\")\n"
      ],
      "metadata": {
        "id": "Ii-UZo_11837"
      },
      "execution_count": null,
      "outputs": []
    },
    {
      "cell_type": "markdown",
      "source": [
        "9.<<  Write a class Fraction with attributes numerator and denominator. Override the str method to display the\n",
        "fraction as \"numerator/denominator\"."
      ],
      "metadata": {
        "id": "aw9JHGst2FyO"
      }
    },
    {
      "cell_type": "code",
      "source": [
        "class Fraction:\n",
        "    def __init__(self, numerator, denominator):\n",
        "        if denominator == 0:\n",
        "            raise ValueError(\"Denominator cannot be zero\")\n",
        "        self.numerator = numerator\n",
        "        self.denominator = denominator\n",
        "\n",
        "    def __str__(self):\n",
        "        return f\"{self.numerator}/{self.denominator}\"\n",
        "\n",
        "# Create a Fraction instance\n",
        "fraction = Fraction(3, 4)\n",
        "\n",
        "# Display the fraction\n",
        "print(fraction)"
      ],
      "metadata": {
        "colab": {
          "base_uri": "https://localhost:8080/"
        },
        "id": "EKSplv5s2NSN",
        "outputId": "4cba7018-b9e5-4600-9a8a-8cd78b4f4163"
      },
      "execution_count": 7,
      "outputs": [
        {
          "output_type": "stream",
          "name": "stdout",
          "text": [
            "3/4\n"
          ]
        }
      ]
    },
    {
      "cell_type": "markdown",
      "source": [
        "10.<<  Demonstrate operator overloading by creating a class Vector and overriding the add method to add two\n",
        "vectors."
      ],
      "metadata": {
        "id": "9STZiIL32Zi5"
      }
    },
    {
      "cell_type": "code",
      "source": [
        "class Vector:\n",
        "    def __init__(self, x, y):\n",
        "        self.x = x\n",
        "        self.y = y\n",
        "\n",
        "    def __add__(self, other):\n",
        "        if isinstance(other, Vector):\n",
        "            return Vector(self.x + other.x, self.y + other.y)\n",
        "        else:\n",
        "            raise TypeError(\"Both operands must be vectors\")\n",
        "\n",
        "    def __str__(self):\n",
        "        return f\"({self.x}, {self.y})\"\n",
        "\n",
        "# Create two Vector instances\n",
        "v1 = Vector(2, 3)\n",
        "v2 = Vector(4, 5)\n",
        "\n",
        "# Add the vectors using the + operator\n",
        "v3 = v1 + v2\n",
        "\n",
        "# Display the result\n",
        "print(f\"v1 = {v1}\")\n",
        "print(f\"v2 = {v2}\")\n",
        "print(f\"v1 + v2 = {v3}\")\n",
        "\n",
        "\n"
      ],
      "metadata": {
        "colab": {
          "base_uri": "https://localhost:8080/"
        },
        "id": "0yYIMQJY2gwK",
        "outputId": "be637e62-907f-4539-acf3-bda2d6b45ecb"
      },
      "execution_count": 8,
      "outputs": [
        {
          "output_type": "stream",
          "name": "stdout",
          "text": [
            "v1 = (2, 3)\n",
            "v2 = (4, 5)\n",
            "v1 + v2 = (6, 8)\n"
          ]
        }
      ]
    },
    {
      "cell_type": "markdown",
      "source": [
        "11.<< Create a class Person with attributes name and age. Add a method greet() that prints \"Hello, my name is\n",
        "{name} and I am {age} years old.\""
      ],
      "metadata": {
        "id": "nmVoXqD52n4B"
      }
    },
    {
      "cell_type": "code",
      "source": [
        "\n",
        "class Person:\n",
        "    def __init__(self, name, age):\n",
        "        self.name = name\n",
        "        self.age = age\n",
        "\n",
        "    def greet(self):\n",
        "        print(f\"Hello, my name is {self.name} and I am {self.age} years old.\")\n",
        "\n",
        "# Example usage:\n",
        "person = Person(\"John\", 30)\n",
        "person.greet()\n"
      ],
      "metadata": {
        "colab": {
          "base_uri": "https://localhost:8080/"
        },
        "id": "Nn4YoAOm2xx5",
        "outputId": "6b4ef0e0-4185-4cca-96a7-66c65530b1cf"
      },
      "execution_count": 9,
      "outputs": [
        {
          "output_type": "stream",
          "name": "stdout",
          "text": [
            "Hello, my name is John and I am 30 years old.\n"
          ]
        }
      ]
    },
    {
      "cell_type": "markdown",
      "source": [
        "12.<< Implement a class Student with attributes name and grades. Create a method average_grade() to compute\n",
        "the average of the grades"
      ],
      "metadata": {
        "id": "BR7COljU21Sz"
      }
    },
    {
      "cell_type": "code",
      "source": [
        "\n",
        "class Student:\n",
        "    def __init__(self, name, grades):\n",
        "        self.name = name\n",
        "        self.grades = grades\n",
        "\n",
        "    def average_grade(self):\n",
        "        if len(self.grades) == 0:\n",
        "            return 0\n",
        "        return sum(self.grades) / len(self.grades)\n",
        "\n",
        "# Example usage:\n",
        "student = Student(\"John\", [90, 85, 95, 88])\n",
        "print(f\"Average grade: {student.average_grade():.2f}\")\n"
      ],
      "metadata": {
        "colab": {
          "base_uri": "https://localhost:8080/"
        },
        "id": "_HM19-Cg26bT",
        "outputId": "89b48113-f01b-420d-e3ef-b79de1e46f13"
      },
      "execution_count": 10,
      "outputs": [
        {
          "output_type": "stream",
          "name": "stdout",
          "text": [
            "Average grade: 89.50\n"
          ]
        }
      ]
    },
    {
      "cell_type": "markdown",
      "source": [
        "13.<< Create a class Rectangle with methods set_dimensions() to set the dimensions and area() to calculate the\n",
        "area"
      ],
      "metadata": {
        "id": "6F_xka9B2_Xz"
      }
    },
    {
      "cell_type": "code",
      "source": [
        "\n",
        "class Rectangle:\n",
        "    def __init__(self):\n",
        "        self.width = 0\n",
        "        self.height = 0\n",
        "\n",
        "    def set_dimensions(self, width, height):\n",
        "        self.width = width\n",
        "        self.height = height\n",
        "\n",
        "    def area(self):\n",
        "        return self.width * self.height\n",
        "\n",
        "# Example usage:\n",
        "rectangle = Rectangle()\n",
        "rectangle.set_dimensions(4, 5)\n",
        "print(f\"Area: {rectangle.area()}\")\n"
      ],
      "metadata": {
        "colab": {
          "base_uri": "https://localhost:8080/"
        },
        "id": "5GT7ajvo3GD8",
        "outputId": "be7f23db-e9c6-46e3-8e8c-cf90ca53935d"
      },
      "execution_count": 11,
      "outputs": [
        {
          "output_type": "stream",
          "name": "stdout",
          "text": [
            "Area: 20\n"
          ]
        }
      ]
    },
    {
      "cell_type": "markdown",
      "source": [
        "14.<< Create a class Employee with a method calculate_salary() that computes the salary based on hours worked\n",
        "and hourly rate. Create a derived class Manager that adds a bonus to the salary."
      ],
      "metadata": {
        "id": "JiFXycWj3LmE"
      }
    },
    {
      "cell_type": "code",
      "source": [
        "\n",
        "class Employee:\n",
        "    def __init__(self, name, hourly_rate):\n",
        "        self.name = name\n",
        "        self.hourly_rate = hourly_rate\n",
        "        self.hours_worked = 0\n",
        "\n",
        "    def calculate_salary(self):\n",
        "        return self.hours_worked * self.hourly_rate\n",
        "\n",
        "    def log_hours(self, hours):\n",
        "        self.hours_worked = hours\n",
        "\n",
        "class Manager(Employee):\n",
        "    def __init__(self, name, hourly_rate, bonus):\n",
        "        super().__init__(name, hourly_rate)\n",
        "        self.bonus = bonus\n",
        "\n",
        "    def calculate_salary(self):\n",
        "        return super().calculate_salary() + self.bonus\n",
        "\n",
        "# Example usage:\n",
        "employee = Employee(\"John\", 20)\n",
        "employee.log_hours(40)\n",
        "print(f\"Employee salary: {employee.calculate_salary()}\")\n",
        "\n",
        "manager = Manager(\"Jane\", 30, 1000)\n",
        "manager.log_hours(40)\n",
        "print(f\"Manager salary: {manager.calculate_salary()}\")\n"
      ],
      "metadata": {
        "colab": {
          "base_uri": "https://localhost:8080/"
        },
        "id": "wFaxW0oo3SiU",
        "outputId": "89814474-cbc8-47a4-e62a-70093071deca"
      },
      "execution_count": 12,
      "outputs": [
        {
          "output_type": "stream",
          "name": "stdout",
          "text": [
            "Employee salary: 800\n",
            "Manager salary: 2200\n"
          ]
        }
      ]
    },
    {
      "cell_type": "markdown",
      "source": [
        "15.<< Create a class Product with attributes name, price, and quantity. Implement a method total_price() that\n",
        "calculates the total price of the product."
      ],
      "metadata": {
        "id": "LuL90BJ43Zal"
      }
    },
    {
      "cell_type": "code",
      "source": [
        "\n",
        "class Product:\n",
        "    def __init__(self, name, price, quantity):\n",
        "        self.name = name\n",
        "        self.price = price\n",
        "        self.quantity = quantity\n",
        "\n",
        "    def total_price(self):\n",
        "        return self.price * self.quantity\n",
        "\n",
        "# Example usage:\n",
        "product = Product(\"Laptop\", 1000, 5)\n",
        "print(f\"Total price: {product.total_price()}\")\n"
      ],
      "metadata": {
        "colab": {
          "base_uri": "https://localhost:8080/"
        },
        "id": "ytSwfE7w3jLk",
        "outputId": "01346f8f-cf82-4afa-8a2a-dbeb1d5b5b37"
      },
      "execution_count": 13,
      "outputs": [
        {
          "output_type": "stream",
          "name": "stdout",
          "text": [
            "Total price: 5000\n"
          ]
        }
      ]
    },
    {
      "cell_type": "markdown",
      "source": [
        "16.<<  Create a class Animal with an abstract method sound(). Create two derived classes Cow and Sheep that\n",
        "implement the sound() method."
      ],
      "metadata": {
        "id": "lR2LCu8g3pJY"
      }
    },
    {
      "cell_type": "code",
      "source": [
        "\n",
        "from abc import ABC, abstractmethod\n",
        "\n",
        "class Animal(ABC):\n",
        "    @abstractmethod\n",
        "    def sound(self):\n",
        "        pass\n",
        "\n",
        "class Cow(Animal):\n",
        "    def sound(self):\n",
        "        print(\"Moo\")\n",
        "\n",
        "class Sheep(Animal):\n",
        "    def sound(self):\n",
        "        print(\"Baa\")\n",
        "\n",
        "# Example usage:\n",
        "cow = Cow()\n",
        "sheep = Sheep()\n",
        "\n",
        "cow.sound()\n",
        "sheep.sound()\n"
      ],
      "metadata": {
        "colab": {
          "base_uri": "https://localhost:8080/"
        },
        "id": "Mbrq_wEm3uXh",
        "outputId": "b3b5e530-02e5-4a0e-e526-cd059c20129c"
      },
      "execution_count": 14,
      "outputs": [
        {
          "output_type": "stream",
          "name": "stdout",
          "text": [
            "Moo\n",
            "Baa\n"
          ]
        }
      ]
    },
    {
      "cell_type": "markdown",
      "source": [
        "17.<< Create a class Book with attributes title, author, and year_published. Add a method get_book_info() that\n",
        "returns a formatted string with the book's details."
      ],
      "metadata": {
        "id": "4ho6QTkk39zm"
      }
    },
    {
      "cell_type": "code",
      "source": [
        "\n",
        "class Book:\n",
        "    def __init__(self, title, author, year_published):\n",
        "        self.title = title\n",
        "        self.author = author\n",
        "        self.year_published = year_published\n",
        "\n",
        "    def get_book_info(self):\n",
        "        return f\"'{self.title}' by {self.author}, published in {self.year_published}\"\n",
        "\n",
        "# Example usage:\n",
        "book = Book(\"To Kill a Mockingbird\", \"Harper Lee\", 1960)\n",
        "print(book.get_book_info())\n"
      ],
      "metadata": {
        "colab": {
          "base_uri": "https://localhost:8080/"
        },
        "id": "8QdfK_pf4LjR",
        "outputId": "267a70be-73b2-49a3-e258-0206cdcfb5ae"
      },
      "execution_count": 16,
      "outputs": [
        {
          "output_type": "stream",
          "name": "stdout",
          "text": [
            "'To Kill a Mockingbird' by Harper Lee, published in 1960\n"
          ]
        }
      ]
    },
    {
      "cell_type": "markdown",
      "source": [
        "18.<<  Create a class House with attributes address and price. Create a derived class Mansion that adds an\n",
        "attribute number_of_rooms."
      ],
      "metadata": {
        "id": "TJ-v7uiC4Q5-"
      }
    },
    {
      "cell_type": "code",
      "source": [
        "\n",
        "class House:\n",
        "    def __init__(self, address, price):\n",
        "        self.address = address\n",
        "        self.price = price\n",
        "\n",
        "class Mansion(House):\n",
        "    def __init__(self, address, price, number_of_rooms):\n",
        "        super().__init__(address, price)\n",
        "        self.number_of_rooms = number_of_rooms\n",
        "\n",
        "# Example usage:\n",
        "house = House(\"123 Main St\", 500000)\n",
        "mansion = Mansion(\"456 Estate Dr\", 2000000, 10)\n",
        "\n",
        "print(f\"House address: {house.address}, price: {house.price}\")\n",
        "print(f\"Mansion address: {mansion.address}, price: {mansion.price}, number of rooms: {mansion.number_of_rooms}\")\n"
      ],
      "metadata": {
        "colab": {
          "base_uri": "https://localhost:8080/"
        },
        "id": "p1fNCpVo4ZkD",
        "outputId": "42fa1e06-3937-466c-b5e7-befd83da5ef1"
      },
      "execution_count": 15,
      "outputs": [
        {
          "output_type": "stream",
          "name": "stdout",
          "text": [
            "House address: 123 Main St, price: 500000\n",
            "Mansion address: 456 Estate Dr, price: 2000000, number of rooms: 10\n"
          ]
        }
      ]
    }
  ]
}